{
  "nbformat": 4,
  "nbformat_minor": 0,
  "metadata": {
    "colab": {
      "name": "Red_neuronal_01_2neuronas.ipynb",
      "provenance": [],
      "collapsed_sections": [],
      "authorship_tag": "ABX9TyOAXWra2TmE5zdofohwWU1L",
      "include_colab_link": true
    },
    "kernelspec": {
      "name": "python3",
      "display_name": "Python 3"
    },
    "language_info": {
      "name": "python"
    }
  },
  "cells": [
    {
      "cell_type": "markdown",
      "metadata": {
        "id": "view-in-github",
        "colab_type": "text"
      },
      "source": [
        "<a href=\"https://colab.research.google.com/github/E1N1K0/TENSORFLOW-EXERCISES/blob/main/Red_neuronal_01_2neuronas.ipynb\" target=\"_parent\"><img src=\"https://colab.research.google.com/assets/colab-badge.svg\" alt=\"Open In Colab\"/></a>"
      ]
    },
    {
      "cell_type": "code",
      "source": [
        "#!git clone https://github.com/E1N1K0/TENSORFLOW-EXERCISES.git"
      ],
      "metadata": {
        "colab": {
          "base_uri": "https://localhost:8080/"
        },
        "id": "xN2EVCG5uGJV",
        "outputId": "dee1e0bf-a670-4565-c776-b9d4c739cf77"
      },
      "execution_count": 2,
      "outputs": [
        {
          "output_type": "stream",
          "name": "stdout",
          "text": [
            "Cloning into 'TENSORFLOW-EXERCISES'...\n",
            "remote: Enumerating objects: 6, done.\u001b[K\n",
            "remote: Counting objects: 100% (6/6), done.\u001b[K\n",
            "remote: Compressing objects: 100% (3/3), done.\u001b[K\n",
            "remote: Total 6 (delta 0), reused 0 (delta 0), pack-reused 0\u001b[K\n",
            "Unpacking objects: 100% (6/6), done.\n"
          ]
        }
      ]
    },
    {
      "cell_type": "code",
      "source": [
        "!git init"
      ],
      "metadata": {
        "colab": {
          "base_uri": "https://localhost:8080/"
        },
        "id": "UmZMBliPvj17",
        "outputId": "731a610e-7ca1-4072-9af8-8c9d60a9e6a7"
      },
      "execution_count": 4,
      "outputs": [
        {
          "output_type": "stream",
          "name": "stdout",
          "text": [
            "Initialized empty Git repository in /content/.git/\n"
          ]
        }
      ]
    },
    {
      "cell_type": "code",
      "source": [
        "!git remote add origins https://github.com/E1N1K0/TENSORFLOW-EXERCISES.git"
      ],
      "metadata": {
        "id": "nYnwYhH_vnNs"
      },
      "execution_count": 6,
      "outputs": []
    },
    {
      "cell_type": "code",
      "source": [
        "!git add ."
      ],
      "metadata": {
        "colab": {
          "base_uri": "https://localhost:8080/"
        },
        "id": "KSuMP0J-ue6A",
        "outputId": "b1c8a643-9b04-449f-cb46-9d20dc2bebd4"
      },
      "execution_count": 9,
      "outputs": [
        {
          "output_type": "stream",
          "name": "stdout",
          "text": [
            "warning: adding embedded git repository: TENSORFLOW-EXERCISES\n",
            "hint: You've added another git repository inside your current repository.\n",
            "hint: Clones of the outer repository will not contain the contents of\n",
            "hint: the embedded repository and will not know how to obtain it.\n",
            "hint: If you meant to add a submodule, use:\n",
            "hint: \n",
            "hint: \tgit submodule add <url> TENSORFLOW-EXERCISES\n",
            "hint: \n",
            "hint: If you added this path by mistake, you can remove it from the\n",
            "hint: index with:\n",
            "hint: \n",
            "hint: \tgit rm --cached TENSORFLOW-EXERCISES\n",
            "hint: \n",
            "hint: See \"git help submodule\" for more information.\n"
          ]
        }
      ]
    },
    {
      "cell_type": "code",
      "source": [
        "!git config --global user.E1N1K0-github"
      ],
      "metadata": {
        "id": "24d8JCfbxTjU"
      },
      "execution_count": 17,
      "outputs": []
    },
    {
      "cell_type": "code",
      "source": [
        "!git config --global user.e1n1k0programa@gmail.com"
      ],
      "metadata": {
        "id": "6OnF7ripxSRf"
      },
      "execution_count": 19,
      "outputs": []
    },
    {
      "cell_type": "code",
      "source": [
        "!git status"
      ],
      "metadata": {
        "colab": {
          "base_uri": "https://localhost:8080/"
        },
        "id": "WzHiseu-yYDE",
        "outputId": "ac2cd380-6328-4d22-ae54-3bd0f281da78"
      },
      "execution_count": 21,
      "outputs": [
        {
          "output_type": "stream",
          "name": "stdout",
          "text": [
            "On branch master\n",
            "\n",
            "No commits yet\n",
            "\n",
            "Changes to be committed:\n",
            "  (use \"git rm --cached <file>...\" to unstage)\n",
            "\n",
            "\t\u001b[32mnew file:   .config/.last_opt_in_prompt.yaml\u001b[m\n",
            "\t\u001b[32mnew file:   .config/.last_survey_prompt.yaml\u001b[m\n",
            "\t\u001b[32mnew file:   .config/.last_update_check.json\u001b[m\n",
            "\t\u001b[32mnew file:   .config/active_config\u001b[m\n",
            "\t\u001b[32mnew file:   .config/config_sentinel\u001b[m\n",
            "\t\u001b[32mnew file:   .config/configurations/config_default\u001b[m\n",
            "\t\u001b[32mnew file:   .config/gce\u001b[m\n",
            "\t\u001b[32mnew file:   .config/logs/2022.01.07/14.32.37.114755.log\u001b[m\n",
            "\t\u001b[32mnew file:   .config/logs/2022.01.07/14.32.57.118850.log\u001b[m\n",
            "\t\u001b[32mnew file:   .config/logs/2022.01.07/14.33.15.504888.log\u001b[m\n",
            "\t\u001b[32mnew file:   .config/logs/2022.01.07/14.33.22.232212.log\u001b[m\n",
            "\t\u001b[32mnew file:   .config/logs/2022.01.07/14.33.41.864886.log\u001b[m\n",
            "\t\u001b[32mnew file:   .config/logs/2022.01.07/14.33.42.565580.log\u001b[m\n",
            "\t\u001b[32mnew file:   TENSORFLOW-EXERCISES\u001b[m\n",
            "\t\u001b[32mnew file:   sample_data/README.md\u001b[m\n",
            "\t\u001b[32mnew file:   sample_data/anscombe.json\u001b[m\n",
            "\t\u001b[32mnew file:   sample_data/california_housing_test.csv\u001b[m\n",
            "\t\u001b[32mnew file:   sample_data/california_housing_train.csv\u001b[m\n",
            "\t\u001b[32mnew file:   sample_data/mnist_test.csv\u001b[m\n",
            "\t\u001b[32mnew file:   sample_data/mnist_train_small.csv\u001b[m\n",
            "\n"
          ]
        }
      ]
    },
    {
      "cell_type": "code",
      "source": [
        "/content/TENSORFLOW-EXERCISES"
      ],
      "metadata": {
        "colab": {
          "base_uri": "https://localhost:8080/",
          "height": 130
        },
        "id": "g7KFg6BBy9Md",
        "outputId": "8ffc604e-7bd6-422f-8f09-2d19c5a087db"
      },
      "execution_count": 22,
      "outputs": [
        {
          "output_type": "error",
          "ename": "SyntaxError",
          "evalue": "ignored",
          "traceback": [
            "\u001b[0;36m  File \u001b[0;32m\"<ipython-input-22-94057111be1c>\"\u001b[0;36m, line \u001b[0;32m1\u001b[0m\n\u001b[0;31m    content(/TENSORFLOW-EXERCISES)\u001b[0m\n\u001b[0m            ^\u001b[0m\n\u001b[0;31mSyntaxError\u001b[0m\u001b[0;31m:\u001b[0m invalid syntax\n"
          ]
        }
      ]
    },
    {
      "cell_type": "code",
      "source": [
        "!git commit -m  \"Sube archivo desde colab01\""
      ],
      "metadata": {
        "colab": {
          "base_uri": "https://localhost:8080/"
        },
        "id": "hEmVvGpgxBfU",
        "outputId": "094d0d33-5148-42be-c8ac-5ff3ab0b418f"
      },
      "execution_count": 20,
      "outputs": [
        {
          "output_type": "stream",
          "name": "stdout",
          "text": [
            "\n",
            "*** Please tell me who you are.\n",
            "\n",
            "Run\n",
            "\n",
            "  git config --global user.email \"you@example.com\"\n",
            "  git config --global user.name \"Your Name\"\n",
            "\n",
            "to set your account's default identity.\n",
            "Omit --global to set the identity only in this repository.\n",
            "\n",
            "fatal: unable to auto-detect email address (got 'root@4f416e916185.(none)')\n"
          ]
        }
      ]
    },
    {
      "cell_type": "code",
      "metadata": {
        "id": "cglHPLuR8L3x"
      },
      "source": [
        "Primera red neuronal en Python y Tensorflow"
      ],
      "execution_count": null,
      "outputs": []
    },
    {
      "cell_type": "markdown",
      "metadata": {
        "id": "_hy72L23_jlC"
      },
      "source": [
        "https://www.youtube.com/watch?v=iX_on3VxZzk"
      ]
    },
    {
      "cell_type": "markdown",
      "metadata": {
        "id": "nTGaaijC96C4"
      },
      "source": [
        "Importar librerias \n",
        "Tensorflow IA de Google\n",
        "Numpy para trabajar con numeros"
      ]
    },
    {
      "cell_type": "code",
      "metadata": {
        "id": "fFlznpw19pcK"
      },
      "source": [
        "import tensorflow as tf\n",
        "import numpy as np"
      ],
      "execution_count": null,
      "outputs": []
    },
    {
      "cell_type": "markdown",
      "metadata": {
        "id": "chzs9ZE6-po4"
      },
      "source": [
        "Incorporar ejemplos que la red usara para aprender"
      ]
    },
    {
      "cell_type": "code",
      "metadata": {
        "id": "lrzN9595-Mk6"
      },
      "source": [
        "celsius = np.array([-40,-10,0,8,15,22,38], dtype=float)\n",
        "farenheit = np.array([-40,14,32,46,59,72,100], dtype=float)"
      ],
      "execution_count": null,
      "outputs": []
    },
    {
      "cell_type": "markdown",
      "metadata": {
        "id": "49CEeL4J_Wz0"
      },
      "source": [
        "Usa un lenguaje simplificado de redes neuronales llamado keras. \n",
        "En este caso son 2 neuronas (1 entrada y 1 salida)."
      ]
    },
    {
      "cell_type": "code",
      "metadata": {
        "id": "tR0_D80O-3Ot"
      },
      "source": [
        "capa = tf.keras.layers.Dense(units=1, input_shape=[1])\n",
        "modelo = tf.keras.Sequential([capa])"
      ],
      "execution_count": null,
      "outputs": []
    },
    {
      "cell_type": "markdown",
      "metadata": {
        "id": "uv66RsaJAAH2"
      },
      "source": [
        "crea modelo (usa optimizador adam)"
      ]
    },
    {
      "cell_type": "code",
      "metadata": {
        "id": "a0qUT29kAGBU"
      },
      "source": [
        "modelo.compile(\n",
        "    optimizer=tf.keras.optimizers.Adam(0.1),\n",
        "    loss='mean_squared_error'\n",
        ")"
      ],
      "execution_count": null,
      "outputs": []
    },
    {
      "cell_type": "markdown",
      "metadata": {
        "id": "yd1IoUo9AkBh"
      },
      "source": [
        "Ahora se entrena"
      ]
    },
    {
      "cell_type": "code",
      "metadata": {
        "colab": {
          "base_uri": "https://localhost:8080/"
        },
        "id": "iCWf_qbiAmTo",
        "outputId": "ea5037bb-a21a-490c-8074-caa93d7d6f51"
      },
      "source": [
        "print(\"Comenzando entrenamiento...\")\n",
        "historial = modelo.fit(celsius, farenheit, epochs=500, verbose=False) \n",
        "print(\"Modelo entrenado!\")"
      ],
      "execution_count": null,
      "outputs": [
        {
          "output_type": "stream",
          "name": "stdout",
          "text": [
            "Comenzando entrenamiento...\n",
            "Modelo entrenado!\n"
          ]
        }
      ]
    },
    {
      "cell_type": "code",
      "metadata": {
        "colab": {
          "base_uri": "https://localhost:8080/",
          "height": 296
        },
        "id": "SpPh2_RCBDYB",
        "outputId": "4034a21a-977b-45e9-a1f5-bfab4b01aa95"
      },
      "source": [
        "import matplotlib.pyplot as plt\n",
        "plt.xlabel(\"# Epoca\")\n",
        "plt.ylabel(\"Magnitud de perdida\")\n",
        "plt.plot(historial.history[\"loss\"])"
      ],
      "execution_count": null,
      "outputs": [
        {
          "output_type": "execute_result",
          "data": {
            "text/plain": [
              "[<matplotlib.lines.Line2D at 0x7f1af2004d50>]"
            ]
          },
          "metadata": {},
          "execution_count": 8
        },
        {
          "output_type": "display_data",
          "data": {
            "image/png": "[encoded data removed]",
            "text/plain": [
              "<Figure size 432x288 with 1 Axes>"
            ]
          },
          "metadata": {
            "needs_background": "light"
          }
        }
      ]
    },
    {
      "cell_type": "markdown",
      "metadata": {
        "id": "lSH0zvz1Bxfb"
      },
      "source": [
        "Hacer la prediccion!"
      ]
    },
    {
      "cell_type": "code",
      "metadata": {
        "colab": {
          "base_uri": "https://localhost:8080/"
        },
        "id": "_axFMrQsB0Nv",
        "outputId": "a408ffe8-f0e5-41e3-97de-04674244c907"
      },
      "source": [
        "print(\"Hagamos una prediccion\")\n",
        "resultado = modelo.predict([100,0])\n",
        "print(\"El resultado es \" + str(resultado) + \" farenheit!\")"
      ],
      "execution_count": null,
      "outputs": [
        {
          "output_type": "stream",
          "name": "stdout",
          "text": [
            "Hagamos una prediccion\n",
            "El resultado es [[211.74744 ]\n",
            " [ 31.952478]] farenheit!\n"
          ]
        }
      ]
    },
    {
      "cell_type": "markdown",
      "metadata": {
        "id": "TMBZlL1wCR_O"
      },
      "source": [
        "Aqui el sistema ya predice!\n",
        "Ahora Ver los datos de ntrada y salida."
      ]
    },
    {
      "cell_type": "code",
      "metadata": {
        "colab": {
          "base_uri": "https://localhost:8080/"
        },
        "id": "rewD-krCCYLV",
        "outputId": "98551358-ebc6-4672-cacd-8e2be45a004d"
      },
      "source": [
        "print(\"Variables internas dle modelo\")\n",
        "print(capa.get_weights())"
      ],
      "execution_count": null,
      "outputs": [
        {
          "output_type": "stream",
          "name": "stdout",
          "text": [
            "Variables internas dle modelo\n",
            "[array([[1.7979496]], dtype=float32), array([31.952478], dtype=float32)]\n"
          ]
        }
      ]
    },
    {
      "cell_type": "markdown",
      "metadata": {
        "id": "oL0WpVvpCyf5"
      },
      "source": [
        "El peso (primero valor del array) lo asigno en 1,79. Y el sesgo 31,9 (segundo valor del array) => La ecuacion de conversion es F = C * 1,8 + 32."
      ]
    }
  ]
}